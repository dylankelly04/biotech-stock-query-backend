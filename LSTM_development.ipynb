{
  "nbformat": 4,
  "nbformat_minor": 0,
  "metadata": {
    "colab": {
      "provenance": []
    },
    "kernelspec": {
      "name": "python3",
      "display_name": "Python 3"
    },
    "language_info": {
      "name": "python"
    }
  },
  "cells": [
    {
      "cell_type": "code",
      "source": [
        "!pip install yfinance\n",
        "import yfinance as yf\n",
        "import pandas as pd\n",
        "import numpy as np\n",
        "import matplotlib.pyplot as plt\n",
        "\n",
        "import tensorflow as tf\n",
        "from tensorflow import keras\n",
        "from keras import *\n",
        "from keras.layers import *"
      ],
      "metadata": {
        "id": "7LC9AztVif-C"
      },
      "execution_count": null,
      "outputs": []
    },
    {
      "cell_type": "code",
      "source": [
        "path = '/Users/mmaiti/Downloads/us_symbols.csv'\n",
        "df = pd.read_csv(path)\n",
        "stocks = [str(stock).strip() for stock in df.loc[:, 'ticker']]\n",
        "alltickers = \" \".join(stocks)\n",
        "tickers = yf.Tickers(alltickers)\n",
        "cols = ['Ordinary Shares Number', 'Total Debt', 'Working Capital', 'Total Assets',\n",
        "        'Total Liabilities Net Minority Interest', 'Inventory', 'Cash And Cash Equivalents']\n",
        "print('done loading stocks')\n",
        "\n",
        "indicator_df = []\n",
        "labels_df = []\n",
        "stock_df = []\n",
        "\n",
        "ctr = 0\n",
        "for stock in stocks:\n",
        "    add = True\n",
        "    try:\n",
        "        t1 = tickers.tickers[stock].balance_sheet.loc[cols,:].iloc[:, 0].to_numpy()\n",
        "        t2 = tickers.tickers[stock].recommendations.iloc[-1,:].iloc[1:].to_numpy()\n",
        "        t3 = tickers.tickers[stock].history(period='1mo').loc[:,'Close'].to_numpy()\n",
        "        indicator_df.append(t1)\n",
        "        labels_df.append(t2)\n",
        "        stock_df.append(t3)\n",
        "        ctr += 1\n",
        "    except:\n",
        "        pass"
      ],
      "metadata": {
        "id": "rrizmNvm_zzp"
      },
      "execution_count": null,
      "outputs": []
    },
    {
      "cell_type": "code",
      "source": [
        "bad_indices = np.where(np.array([len(i) != 22 for i in stock_df]))[0]\n",
        "stock_df = [stock_df[i] for i in range(len(stock_df)) if not i in bad_indices]\n",
        "indicator_df = [indicator_df[i] for i in range(len(indicator_df)) if not i in bad_indices]\n",
        "labels_df = [labels_df[i] for i in range(len(labels_df)) if not i in bad_indices]"
      ],
      "metadata": {
        "id": "LdIzuO5VCUpB"
      },
      "execution_count": null,
      "outputs": []
    },
    {
      "cell_type": "code",
      "source": [
        "X1 = np.array(indicator_df)\n",
        "print(X1.shape)"
      ],
      "metadata": {
        "id": "I5mWdZJCCd1p"
      },
      "execution_count": null,
      "outputs": []
    },
    {
      "cell_type": "code",
      "source": [
        "X2 = np.array(stock_df)\n",
        "print(X2.shape)"
      ],
      "metadata": {
        "id": "stQKo9t2Ceua"
      },
      "execution_count": null,
      "outputs": []
    },
    {
      "cell_type": "code",
      "source": [
        "Y = np.array(labels_df)\n",
        "print(Y.shape)"
      ],
      "metadata": {
        "id": "u2IZtrhrC2Vr"
      },
      "execution_count": null,
      "outputs": []
    },
    {
      "cell_type": "code",
      "source": [
        "Y_clean = Y[np.sum(Y, axis=1) != 0]\n",
        "X1_clean = X1[np.sum(Y, axis=1) != 0]\n",
        "X2_clean = X2[np.sum(Y, axis=1) != 0]"
      ],
      "metadata": {
        "id": "DQJIFzM_CQUi"
      },
      "execution_count": null,
      "outputs": []
    },
    {
      "cell_type": "code",
      "source": [
        "X1 = X1_clean / X1_clean[:,3].reshape(X1_clean.shape[0], 1)\n",
        "X2 = (X2_clean - np.min(X2_clean, axis=1).reshape(-1,1)) / (np.max(X2_clean, axis=1) - np.min(X2_clean, axis=1)).reshape(-1,1)\n",
        "Y = (Y_clean - np.min(Y_clean, axis=1).reshape(-1,1)) / (np.max(Y_clean, axis=1) - np.min(Y_clean, axis=1)).reshape(-1,1)\n",
        "Y = Y / np.sum(Y, axis=1).reshape(-1,1)"
      ],
      "metadata": {
        "id": "a2x-Ec_eLQBC"
      },
      "execution_count": null,
      "outputs": []
    },
    {
      "cell_type": "code",
      "source": [
        "def build_model():\n",
        "  inputs1 = Input(shape=(X2.shape[1],1))\n",
        "  x = LSTM(32, activation=\"tanh\")(inputs1)\n",
        "  inputs2 = Input(shape=(X1.shape[1],))\n",
        "  concatenated = concatenate([x, inputs2], axis=1)\n",
        "  x = Dense(32, activation=\"relu\")(concatenated)\n",
        "  x = Dense(Y.shape[1], activation=\"softmax\")(x)\n",
        "  model = Model(inputs=[inputs1, inputs2], outputs=x)\n",
        "  return model"
      ],
      "metadata": {
        "id": "Fzw3DXOIdFQA"
      },
      "execution_count": null,
      "outputs": []
    },
    {
      "cell_type": "code",
      "source": [
        "model = build_model()\n",
        "model.summary()"
      ],
      "metadata": {
        "id": "OVywSPB0daoa"
      },
      "execution_count": null,
      "outputs": []
    },
    {
      "cell_type": "code",
      "source": [
        "split = int(0.8 * X2.shape[0])\n",
        "X_t_prices = X2[:split]\n",
        "X_t_fin = X1[:split]\n",
        "X_v_prices = X2[split:]\n",
        "X_v_fin = X1[split:]\n",
        "y_t = Y[:split]\n",
        "y_v = Y[split:]"
      ],
      "metadata": {
        "id": "TVUQk9kQeUtQ"
      },
      "execution_count": null,
      "outputs": []
    },
    {
      "cell_type": "code",
      "source": [
        "X_t_fin = np.nan_to_num(X_t_fin, nan=0)\n",
        "X_v_fin = np.nan_to_num(X_v_fin, nan=0)\n",
        "X_t_fin = X_t_fin.astype(np.float32)\n",
        "X_v_fin = X_v_fin.astype(np.float32)\n",
        "y_t = y_t.astype(np.float32)\n",
        "y_v = y_v.astype(np.float32)"
      ],
      "metadata": {
        "id": "DVrc4FHbhQaz"
      },
      "execution_count": null,
      "outputs": []
    },
    {
      "cell_type": "code",
      "source": [
        "model.compile(optimizer=\"adam\", loss=\"mse\", metrics=[\"mae\"])"
      ],
      "metadata": {
        "id": "ARIBq1O3gnXM"
      },
      "execution_count": null,
      "outputs": []
    },
    {
      "cell_type": "code",
      "source": [
        "history = model.fit([X_t_prices, X_t_fin], y_t, validation_data=([X_v_prices, X_v_fin], y_v), batch_size=32, epochs=100)"
      ],
      "metadata": {
        "id": "VEcmjZNahCfD"
      },
      "execution_count": null,
      "outputs": []
    },
    {
      "cell_type": "code",
      "source": [
        "plt.plot(history.history[\"loss\"])\n",
        "plt.plot(history.history[\"val_loss\"])\n",
        "plt.show()"
      ],
      "metadata": {
        "id": "czSpNBTbjh8z"
      },
      "execution_count": null,
      "outputs": []
    },
    {
      "cell_type": "code",
      "source": [
        "model.save(\"stock_vetter_rnn.keras\")"
      ],
      "metadata": {
        "id": "OOwp3U86pkEl"
      },
      "execution_count": null,
      "outputs": []
    }
  ]
}